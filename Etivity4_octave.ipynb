{
 "cells": [
  {
   "cell_type": "code",
   "execution_count": 1,
   "metadata": {},
   "outputs": [
    {
     "name": "stdout",
     "output_type": "stream",
     "text": [
      "vec_t1 =\n",
      "\n",
      "   15   21   52\n",
      "\n",
      "vec_t2 =\n",
      "\n",
      "   42    9   18\n",
      "\n",
      "vec_t3 =\n",
      "\n",
      "   42    9   18   22\n",
      "\n",
      "arr_t1 =\n",
      "\n",
      "   1   2\n",
      "   3   4\n",
      "\n",
      "arr_t2 =\n",
      "\n",
      "    5    9\n",
      "   15   27\n",
      "\n",
      "arr_t3 =\n",
      "\n",
      "   1   2   4   3\n",
      "   3   4   7   1\n",
      "   3   3   1   5\n",
      "   4   3   5   1\n",
      "\n",
      "arr_t4 =\n",
      "\n",
      "   5   9   1   3\n",
      "   1   5   2   7\n",
      "   6   6   5   3\n",
      "   5   4   7   8\n",
      "\n"
     ]
    }
   ],
   "source": [
    "vec_t1 = [15,21,52]\n",
    "vec_t2 = [42,9,18]\n",
    "vec_t3 = [42,9,18,22]\n",
    "         \n",
    "arr_t1 = [1,2;3,4]\n",
    "arr_t2 = [5,9;15,27]\n",
    "arr_t3 = [1,2,4,3;3,4,7,1;3,3,1,5;4,3,5,1]\n",
    "arr_t4 = [5,9,1,3;1,5,2,7;6,6,5,3;5,4,7,8]"
   ]
  },
  {
   "cell_type": "code",
   "execution_count": 3,
   "metadata": {},
   "outputs": [
    {
     "name": "stdout",
     "output_type": "stream",
     "text": [
      "ans =\n",
      "\n",
      "    6   11    5    6\n",
      "    4    9    9    8\n",
      "    9    9    6    8\n",
      "    9    7   12    9\n",
      "\n"
     ]
    }
   ],
   "source": [
    "#sum of a 4x4 with a 4x4 matrix\n",
    "arr_t3+arr_t4"
   ]
  },
  {
   "cell_type": "code",
   "execution_count": 4,
   "metadata": {},
   "outputs": [
    {
     "name": "stdout",
     "output_type": "stream",
     "text": [
      "ans =\n",
      "\n",
      "   46   55   46   53\n",
      "   66   93   53   66\n",
      "   49   68   49   73\n",
      "   58   85   42   56\n",
      "\n"
     ]
    }
   ],
   "source": [
    "#multiplication of a 4x4 with a 4x4 matrix\n",
    "arr_t3*arr_t4"
   ]
  },
  {
   "cell_type": "code",
   "execution_count": 5,
   "metadata": {},
   "outputs": [
    {
     "name": "stdout",
     "output_type": "stream",
     "text": [
      "ans =\n",
      "\n",
      "   211   240   359   247\n",
      "\n"
     ]
    }
   ],
   "source": [
    "#multiplication of a 4x4 matrix with a suitable vector\n",
    "vec_t3*arr_t3"
   ]
  },
  {
   "cell_type": "code",
   "execution_count": 8,
   "metadata": {},
   "outputs": [
    {
     "name": "stdout",
     "output_type": "stream",
     "text": [
      "ans = -2\n"
     ]
    }
   ],
   "source": [
    "# determinant of a 2x2 matrix\n",
    "det(arr_t1)"
   ]
  },
  {
   "cell_type": "code",
   "execution_count": 9,
   "metadata": {},
   "outputs": [
    {
     "name": "stdout",
     "output_type": "stream",
     "text": [
      "ans =\n",
      "\n",
      "  -2.00000   1.00000\n",
      "   1.50000  -0.50000\n",
      "\n"
     ]
    }
   ],
   "source": [
    "# inverse of a 2x2 matrix\n",
    "inverse(arr_t1)"
   ]
  },
  {
   "cell_type": "code",
   "execution_count": 10,
   "metadata": {},
   "outputs": [
    {
     "name": "stdout",
     "output_type": "stream",
     "text": [
      "ans =\n",
      "\n",
      "    -90   1914   -747\n",
      "\n"
     ]
    }
   ],
   "source": [
    "#cross-product of 2 suitable tensors\n",
    "cross(vec_t1,vec_t2)"
   ]
  },
  {
   "cell_type": "code",
   "execution_count": null,
   "metadata": {},
   "outputs": [],
   "source": []
  }
 ],
 "metadata": {
  "kernelspec": {
   "display_name": "Octave",
   "language": "octave",
   "name": "octave"
  },
  "language_info": {
   "file_extension": ".m",
   "help_links": [
    {
     "text": "GNU Octave",
     "url": "https://www.gnu.org/software/octave/support.html"
    },
    {
     "text": "Octave Kernel",
     "url": "https://github.com/Calysto/octave_kernel"
    },
    {
     "text": "MetaKernel Magics",
     "url": "https://github.com/calysto/metakernel/blob/master/metakernel/magics/README.md"
    }
   ],
   "mimetype": "text/x-octave",
   "name": "octave",
   "version": "4.2.2"
  }
 },
 "nbformat": 4,
 "nbformat_minor": 2
}
