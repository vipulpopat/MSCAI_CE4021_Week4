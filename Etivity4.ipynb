{
 "cells": [
  {
   "cell_type": "markdown",
   "metadata": {},
   "source": [
    "#Student Name: Aidan Keeshan\n",
    "#Student ID:   18200117"
   ]
  },
  {
   "cell_type": "code",
   "execution_count": 1,
   "metadata": {},
   "outputs": [],
   "source": [
    "\"\"\"Week 4 Etivity\"\"\"\n",
    "# For this assignment we had to take previous work and create a class.\n",
    "# Initially I had called the class Matrix and the .data was also called matrix.\n",
    "# After reviewing peers code Tensor was chosen as class name.\n",
    "# In the code data can store either a vector or matrix both of which are tensors.\n",
    "# pep8 code profiled with exceptions of some names \n",
    "class Tensor:\n",
    "    \"\"\"Tensor Class implemtaion of Week 3 Etivity\"\"\"\n",
    "    # I have chose to store the dimension of the tensor twice. \n",
    "    # This will not be maximally space efficient but lead to cleaner code and less array look ups.\n",
    "    def __init__(self, matrix):\n",
    "        self.data = matrix\n",
    "        self.shape = self.__size()\n",
    "        self.rows = self.shape[0]\n",
    "        self.columns = self.shape[1]\n",
    "    ### Mostly unchanged except double underscore for private class\n",
    "    def __size(self):\n",
    "        if hasattr(self.data, \"__len__\"):\n",
    "            if hasattr(self.data[0], \"__len__\"):\n",
    "                dimension = [len(self.data), len(self.data[0])]\n",
    "            else:\n",
    "                dimension = [len(self.data), 1]\n",
    "        else:\n",
    "            dimension = [1, 1]\n",
    "        return dimension\n",
    "    def __array_create(self, array_dim, fill=0):\n",
    "        if array_dim[1] > 1:\n",
    "            return [[fill for i in range(array_dim[0])] for j in range(array_dim[1])]\n",
    "        else:\n",
    "            return [fill for i in range(array_dim[0])]\n",
    "    def __add_sub_mul(self, other, operation='+'):\n",
    "        # Flattened code from last weeks assignment\n",
    "        result = self.__array_create(self.shape)\n",
    "        sign = -1 if operation == '-' else 1\n",
    "        if not (self.rows == other.rows and self.columns == other.columns) and operation != '*':\n",
    "            raise \"Matrix A and B not Same Size\"\n",
    "        if self.columns != other.rows and operation == '*' and self.columns != 1:\n",
    "            raise \"Matrix A Columns != Matrix B Rows for multiplcation\"\n",
    "        for row in range(self.shape[0]):\n",
    "            if self.columns > 1:\n",
    "                for col in range(self.columns):\n",
    "                    if operation != '*':\n",
    "                        result[row][col] = self.data[row][col]+(sign*other.data[row][col])\n",
    "                    elif operation == \"*\":\n",
    "                        for k in range(other.columns):\n",
    "                            result[row][col] += self.data[row][k]*other.data[k][col]\n",
    "            else:\n",
    "                if operation != '*':\n",
    "                    result[row][col] = self.data[row]+(sign*other.data[row])\n",
    "                else:\n",
    "                    for k in range(other.columns):   \n",
    "                        result[k] += self.data[row]*other.data[row][k]\n",
    "        return Tensor(tuple(result))\n",
    "    ### Mostly unchanged except double underscore for private class\n",
    "    # As per peer suggestion I have added helper function for equivalence test of object\n",
    "    def __compare_tensor(self,other):\n",
    "        if not (self.rows == other.rows and self.columns == other.columns):\n",
    "            return False\n",
    "        for row in range(self.rows):\n",
    "            if self.columns > 1:\n",
    "                for col in range(self.columns):\n",
    "                    if self.data[row][col] != other.data[row][col]:\n",
    "                        return False\n",
    "            else:\n",
    "                if self.data[row] != other.data[row]:\n",
    "                    return False\n",
    "        return True\n",
    "    def determinant(self):\n",
    "        \"\"\" Given a NxN Matric caulated the determinat\"\"\"\n",
    "        if not (self.rows == 2 and self.columns == 2):\n",
    "            raise \"Determinant is 2x2 Matrix Only\"\n",
    "        return self.data[0][0]*self.data[1][1]-self.data[1][0]*self.data[0][1]\n",
    "    def inverse(self):\n",
    "        \"\"\" Given a NxN Matric caulated the inverse matrix\"\"\"\n",
    "        det = self.determinant()\n",
    "        if not (self.rows == 2 and self.columns == 2):\n",
    "            raise \"Inverse is 2x2 Matrix Only\"\n",
    "        if det == 0:\n",
    "            return None\n",
    "        a = self.data[0][0] / det\n",
    "        b = self.data[0][1] / det\n",
    "        c = self.data[1][0] / det\n",
    "        d = self.data[1][1] / det\n",
    "        return Tensor(((d, -b), (-c, a)))\n",
    "    def cross_product(self, other):\n",
    "        \"\"\" Calcualte the cross product of 2 3d vectors \"\"\"\n",
    "        if not (self.rows == 3 and other.rows == 3 and self.columns == 1 and other.columns == 1):\n",
    "            raise \"Expect 2 3d Vectors\"\n",
    "        return Tensor((self.data[1]*other.data[2] - self.data[2]*other.data[1],\n",
    "                       self.data[2]*other.data[0] - self.data[0]*other.data[2],\n",
    "                       self.data[0]*other.data[1] - self.data[1]*other.data[0]))\n",
    "    # All overload functions have been grouped at end of class\n",
    "    def __add__(self, other):\n",
    "        return self.__add_sub_mul(other)\n",
    "    def __sub__(self, other):\n",
    "        return self.__add_sub_mul(other, '-')\n",
    "    def __mul__(self, other):\n",
    "        return self.__add_sub_mul(other, '*')\n",
    "    def __eq__(self, other):\n",
    "        return self.__compare_tensor(other)\n",
    "    def __ne__(self, other):\n",
    "        return not self.__compare_tensor(other)\n",
    "    def __repr__(self):\n",
    "        print_string = '#'*18+'\\n'\n",
    "        for i in range(self.rows):\n",
    "            if self.columns > 1:\n",
    "                print_string += \" , \".join(map(str, self.data[i]))+'\\n'\n",
    "            else:\n",
    "                print_string += str(self.data[i])+'\\n'\n",
    "        print_string += '#'*18+'\\n'\n",
    "        return print_string"
   ]
  },
  {
   "cell_type": "code",
   "execution_count": 2,
   "metadata": {},
   "outputs": [],
   "source": [
    "vec_t1 = Tensor((15, 21, 52))\n",
    "vec_t2 = Tensor((42, 9, 18))\n",
    "vec_t3 = Tensor((42, 9, 18, 22))\n",
    "         \n",
    "arr_t1 = Tensor(((1, 2), (3, 4)))\n",
    "arr_t2 = Tensor(((5, 9), (15, 27)))\n",
    "arr_t3 = Tensor(((1, 2, 4, 3), (3, 4, 7, 1), (3, 3, 1, 5),(4, 3, 5, 1)))\n",
    "arr_t4 = Tensor(((5, 9, 1, 3), (1, 5, 2, 7), (6, 6, 5, 3), (5, 4, 7, 8)))"
   ]
  },
  {
   "cell_type": "markdown",
   "metadata": {},
   "source": [
    "Test your code with one example for each of the following scenarios:\n",
    "\n",
    "    sum of a 4x4 with a 4x4 matrix\n",
    "    multiplication of a 4x4 with a 4x4 matrix\n",
    "    multiplication of a 4x4 matrix with a suitable vector\n",
    "    determinant of a 2x2 matrix\n",
    "    inverse of a 2x2 matrix\n",
    "    cross-product of 2 suitable tensors"
   ]
  },
  {
   "cell_type": "code",
   "execution_count": 3,
   "metadata": {},
   "outputs": [
    {
     "data": {
      "text/plain": [
       "##################\n",
       "6 , 11 , 5 , 6\n",
       "4 , 9 , 9 , 8\n",
       "9 , 9 , 6 , 8\n",
       "9 , 7 , 12 , 9\n",
       "##################"
      ]
     },
     "execution_count": 3,
     "metadata": {},
     "output_type": "execute_result"
    }
   ],
   "source": [
    "#sum of a 4x4 with a 4x4 matrix\n",
    "arr_t3+arr_t4"
   ]
  },
  {
   "cell_type": "code",
   "execution_count": 4,
   "metadata": {},
   "outputs": [
    {
     "data": {
      "text/plain": [
       "##################\n",
       "46 , 55 , 46 , 53\n",
       "66 , 93 , 53 , 66\n",
       "49 , 68 , 49 , 73\n",
       "58 , 85 , 42 , 56\n",
       "##################"
      ]
     },
     "execution_count": 4,
     "metadata": {},
     "output_type": "execute_result"
    }
   ],
   "source": [
    "#multiplication of a 4x4 with a 4x4 matrix\n",
    "arr_t3*arr_t4"
   ]
  },
  {
   "cell_type": "code",
   "execution_count": 5,
   "metadata": {},
   "outputs": [
    {
     "data": {
      "text/plain": [
       "##################\n",
       "211\n",
       "240\n",
       "359\n",
       "247\n",
       "##################"
      ]
     },
     "execution_count": 5,
     "metadata": {},
     "output_type": "execute_result"
    }
   ],
   "source": [
    "#multiplication of a 4x4 matrix with a suitable vector\n",
    "vec_t3*arr_t3"
   ]
  },
  {
   "cell_type": "code",
   "execution_count": 6,
   "metadata": {},
   "outputs": [
    {
     "data": {
      "text/plain": [
       "-2"
      ]
     },
     "execution_count": 6,
     "metadata": {},
     "output_type": "execute_result"
    }
   ],
   "source": [
    "# determinant of a 2x2 matrix\n",
    "arr_t1.determinant()"
   ]
  },
  {
   "cell_type": "code",
   "execution_count": 7,
   "metadata": {},
   "outputs": [
    {
     "data": {
      "text/plain": [
       "##################\n",
       "-2.0 , 1.0\n",
       "1.5 , -0.5\n",
       "##################"
      ]
     },
     "execution_count": 7,
     "metadata": {},
     "output_type": "execute_result"
    }
   ],
   "source": [
    "# inverse of a 2x2 matrix\n",
    "arr_t1.inverse()"
   ]
  },
  {
   "cell_type": "code",
   "execution_count": 8,
   "metadata": {},
   "outputs": [
    {
     "data": {
      "text/plain": [
       "##################\n",
       "-90\n",
       "1914\n",
       "-747\n",
       "##################"
      ]
     },
     "execution_count": 8,
     "metadata": {},
     "output_type": "execute_result"
    }
   ],
   "source": [
    "#cross-product of 2 suitable tensors\n",
    "vec_t1.cross_product(vec_t2)"
   ]
  },
  {
   "cell_type": "code",
   "execution_count": null,
   "metadata": {},
   "outputs": [],
   "source": []
  }
 ],
 "metadata": {
  "kernelspec": {
   "display_name": "Python 3",
   "language": "python",
   "name": "python3"
  },
  "language_info": {
   "codemirror_mode": {
    "name": "ipython",
    "version": 3
   },
   "file_extension": ".py",
   "mimetype": "text/x-python",
   "name": "python",
   "nbconvert_exporter": "python",
   "pygments_lexer": "ipython3",
   "version": "3.6.6"
  }
 },
 "nbformat": 4,
 "nbformat_minor": 2
}
