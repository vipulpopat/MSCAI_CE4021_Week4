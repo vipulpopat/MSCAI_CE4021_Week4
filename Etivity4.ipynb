{
 "cells": [
  {
   "cell_type": "markdown",
   "metadata": {},
   "source": [
    "#Student Name: Abhijit Sinha\n",
    "#Student ID: 18195067"
   ]
  },
  {
   "cell_type": "markdown",
   "metadata": {},
   "source": [
    "###### Week 3 Code taken from peer Eamon OGairbhith for this Etivity4"
   ]
  },
  {
   "cell_type": "markdown",
   "metadata": {},
   "source": [
    "### Task:\n",
    "\n",
    "###### Create a class that contains one tensor and provides the following methods:\n",
    "\n",
    "1. Calculate the size of the tensor as a 2D tuple\n",
    "2. Sum/subtract the tensor with another tensor of suitable size\n",
    "3. Multiply the tensor with a tensor of suitable size\n",
    "4. Calculate the determinant of the tensor, but only for tensors of size 2x2 (matrix)\n",
    "5. Calculate the inverse of the tensor, but only for tensors of size 2x2\n",
    "6. Calculate the cross product of the tensor with another tensor of suitable size\n",
    "\n",
    "###### N.B.:\n",
    "1. Use the Jupyter Notebook provided in the repository for week 4.\n",
    "2. Limit your code to use for tensors of rank 1 and 2 (vectors and matrices)\n",
    "3. Write your code without the use of imported modules.\n",
    "4. Provide suitable exception handling to prevent the above operations from being used on unsuitable tensors.\n",
    "5. Test your code with one example for each of the following scenarios:\n",
    "    1. sum of a 4x4 with a 4x4 matrix\n",
    "    2. multiplication of a 4x4 with a 4x4 matrix\n",
    "    3. multiplication of a 4x4 matrix with a suitable vector\n",
    "    4. determinant of a 2x2 matrix\n",
    "    5. inverse of a 2x2 matrix\n",
    "    6. cross-product of 2 suitable tensors"
   ]
  },
  {
   "cell_type": "code",
   "execution_count": 2,
   "metadata": {
    "collapsed": false
   },
   "outputs": [
    {
     "name": "stdout",
     "output_type": "stream",
     "text": [
      "a_2x2 + b_2x2 = ((0, 5), (3, 12))\n",
      "a_2x2 - b_2x2 = ((2, -1), (7, 0))\n",
      "a_2x2 * b_2x2 = ((-5, 15), (-17, 51))\n",
      "a_4x4 + b_4x4 = ((3, 1, 7, 8), (4, -1, 5, 5), (6, 0, 2, 5), (11, 7, 3, 1))\n",
      "a_4x4 - b_4x4 = ((1, 1, 3, 6), (8, -3, -5, 1), (0, 4, -10, -3), (7, 7, 1, 5))\n",
      "a_4x4 * b_4x4 = ((29, -9, 46, 10), (16, -2, 5, -4), (-11, 10, -7, -11), (7, 3, 68, 25))\n",
      "a_3x3 * b_3x1 = ((12,), (6,), (-5,))\n"
     ]
    }
   ],
   "source": [
    "\"\"\"Example of 2 x 2 Matrices For Testing\"\"\"\n",
    "a_2x2 = ((1, 2), (5, 6))\n",
    "b_2x2 = ((-1, 3), (-2, 6))\n",
    "\n",
    "\"\"\"Example of 4 x 4 Matrices For Testing provided by Abhi\"\"\"\n",
    "a_4x4 = ((2, 1, 5, 7), (6, -2, 0, 3), (3, 2, -4, 1), (9, 7, 2, 3))\n",
    "b_4x4 = ((1, 0, 2, 1), (-2, 1, 5, 2), (3, -2, 6, 4), (2, 0, 1, -2))\n",
    "\n",
    "\"\"\"Example of 3 x 3 Matrix and 3 x 1 column vector For Testing\"\"\"\n",
    "a_3x3 = ((2, 1, 5), (6, -2, 0), (3, 2, -4))\n",
    "b_3x1 = ((1,), (0,), (2,))\n",
    "\n",
    "\n",
    "def size_matrix(matrix):\n",
    "    \"\"\"Function to check size of a matrix\"\"\"\n",
    "    return [len(matrix), len(matrix[0])]\n",
    "\n",
    "\n",
    "def matrix_dimensions_check(matrix_a, matrix_b):\n",
    "    \"\"\"Function to compare size of matrices\"\"\"\n",
    "    if size_matrix(matrix_a) != size_matrix(matrix_b):\n",
    "        raise Exception(\"The matrices are of different dimensions\")\n",
    "\n",
    "\n",
    "def add_sub_mat(a, b, fn_operator):\n",
    "    \"\"\" As per Abhi's advice, the original separate add\n",
    "    and subtract functions have been combined in to one.\n",
    "    \"\"\"\n",
    "    # Matrix Dimension Check function added in as per Abhi's advice\n",
    "    matrix_dimensions_check(a, b)\n",
    "\n",
    "    mat_sum = []\n",
    "    for r in range(len(a)):\n",
    "        mat_sum_row = []\n",
    "        for c in range(len(a[r])):\n",
    "            temp_value = fn_operator(a[r][c], b[r][c])\n",
    "            mat_sum_row.append(temp_value)\n",
    "        mat_sum.append(tuple(mat_sum_row))\n",
    "    return tuple(mat_sum)\n",
    "\n",
    "\n",
    "def mat_add(a, b):\n",
    "    return a + b\n",
    "\n",
    "\n",
    "def mat_sub(a, b):\n",
    "    return a - b\n",
    "\n",
    "\n",
    "def multiply_matrices(a, b):\n",
    "    \"\"\"Function to perform multiplication. This methodology was taken from Vipul's\n",
    "    solution. His method was a lot better than mine in both simplicity and functionality\n",
    "    \"\"\"\n",
    "    if size_matrix(a)[1] != size_matrix(b)[0]:\n",
    "        raise Exception(\"The matrices in question cannot be multiplied\")\n",
    "    result = []\n",
    "    # iterate on row of the first matrix\n",
    "    for i, mat_list in enumerate(a):\n",
    "        internal_result = []\n",
    "        for j in range(len(b[i])):\n",
    "            # extracts columns from 2nd Matrix for multiplication\n",
    "            multiplier = list(zip(*b))[j]\n",
    "            internal_result.append((sum([x*y for x, y in zip(mat_list, multiplier)])))\n",
    "        result.append(tuple(internal_result))\n",
    "    return tuple(result)\n",
    "\n",
    "\n",
    "print(\"a_2x2 + b_2x2 = {}\".format(add_sub_mat(a_2x2, b_2x2, mat_add)))\n",
    "print(\"a_2x2 - b_2x2 = {}\".format(add_sub_mat(a_2x2, b_2x2, mat_sub)))\n",
    "print(\"a_2x2 * b_2x2 = {}\".format(multiply_matrices(a_2x2, b_2x2)))\n",
    "\n",
    "print(\"a_4x4 + b_4x4 = {}\".format(add_sub_mat(a_4x4, b_4x4, mat_add)))\n",
    "print(\"a_4x4 - b_4x4 = {}\".format(add_sub_mat(a_4x4, b_4x4, mat_sub)))\n",
    "print(\"a_4x4 * b_4x4 = {}\".format(multiply_matrices(a_4x4, b_4x4)))\n",
    "\n",
    "print(\"a_3x3 * b_3x1 = {}\".format(multiply_matrices(a_3x3, b_3x1)))"
   ]
  },
  {
   "cell_type": "code",
   "execution_count": null,
   "metadata": {
    "collapsed": true
   },
   "outputs": [],
   "source": []
  }
 ],
 "metadata": {
  "kernelspec": {
   "display_name": "Python 3.6",
   "language": "python",
   "name": "python3.6"
  },
  "language_info": {
   "codemirror_mode": {
    "name": "ipython",
    "version": 3
   },
   "file_extension": ".py",
   "mimetype": "text/x-python",
   "name": "python",
   "nbconvert_exporter": "python",
   "pygments_lexer": "ipython3",
   "version": "3.6.6"
  }
 },
 "nbformat": 4,
 "nbformat_minor": 0
}
