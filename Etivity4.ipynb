{
 "cells": [
  {
   "cell_type": "code",
   "execution_count": 309,
   "metadata": {},
   "outputs": [],
   "source": [
    "#Student Name: Éamon OGairbhith\n",
    "\n",
    "#Student ID:9638296\n",
    "\n",
    "#Etivity 4. Class built to handle various operations on matrices"
   ]
  },
  {
   "cell_type": "code",
   "execution_count": 310,
   "metadata": {},
   "outputs": [],
   "source": [
    "class Matrix:\n",
    "    \n",
    "    def __init__(self, m):\n",
    "        self.matrix = m\n",
    "        self.rows = len(self.matrix)\n",
    "        self.cols = len(self.matrix[0])\n",
    "    \n",
    "    def print_matrix(self):\n",
    "        for r in range(self.rows):\n",
    "            for c in range(self.cols):\n",
    "                print(self.matrix[r][c])\n",
    "\n",
    "    def size(self):\n",
    "        \"\"\"return matrix size (rows, columns)\"\"\"\n",
    "        result = [self.rows, self.cols]\n",
    "        #Vipul's suggestion to return as tuple\n",
    "        return tuple(result)\n",
    "    \n",
    "    #Vipul's suggestion to make method private\n",
    "    def __perform_operation(self, m2, op):\n",
    "        \"\"\" Perform an operation on this matrix and passed in matrix\"\"\"\n",
    "        \n",
    "        result = []\n",
    "        for i, plist in enumerate(self.matrix):\n",
    "            result.append(tuple(map(op, zip(self.matrix[i], m2[i]))))\n",
    "        return tuple(result)\n",
    "\n",
    "    def add(self, m2):\n",
    "        \"\"\" add this matrix to m2 matrix.\"\"\"\n",
    "        \n",
    "        if (self.rows == len(m2)) and (self.cols == len(m2[0])):\n",
    "            return self.__perform_operation(m2, lambda x: x[0]+x[1])\n",
    "        else:\n",
    "            return \"Matrix dimensions not equal\"\n",
    "    \n",
    "    def sub(self, m2):\n",
    "        \"\"\" subtract this m2 from this matrix.\"\"\"\n",
    "\n",
    "        if (self.rows == len(m2)) and (self.cols == len(m2[0])):\n",
    "            return self.__perform_operation(m2, lambda x: x[0]-x[1])\n",
    "        else:\n",
    "            return \"Matrix dimensions not equal\"\n",
    "\n",
    "    def mul(self, m2):\n",
    "        \"\"\" multiply this matrix with another\n",
    "        \"\"\"\n",
    "        \n",
    "        if self.cols == len(m2):\n",
    "            result = []\n",
    "            # iterate on row of the first matrix\n",
    "            for i, plist in enumerate(self.matrix):\n",
    "                internal_result = []\n",
    "                for j in range(len(m2[i])):\n",
    "                    # get the vertical column of the second matrix\n",
    "                    multiplier = list(zip(*m2))[j]\n",
    "                    internal_result.append((sum([a*b for a,b in zip(plist,multiplier)])))\n",
    "                result.append(tuple(internal_result))\n",
    "            return tuple(result)\n",
    "        else:\n",
    "            raise Exception(\"The Number of Columns in Matrix A must Equal the Number of Rows in Matrix B\")\n",
    " \n",
    "    def determinant(self):\n",
    "        \"\"\"(r1c1 * r2c2) - (r1c2 * r2c1)\n",
    "        prerequisite: 2x2 matrix only\"\"\"\n",
    "        \n",
    "        if self.rows == 2 and self.cols == 2:\n",
    "            return (self.matrix[0][0] * self.matrix[1][1]) - (self.matrix[0][1] * self.matrix[1][0])\n",
    "        else:\n",
    "            raise Exception (\"Matrix must be 2x2\")\n",
    "    \n",
    "    def inverse(self):\n",
    "        determinant = self.determinant()\n",
    "        #special case for 2x2 matrix:\n",
    "        \n",
    "        #check put in place for determinant==0 scenario as per Vipul's recommendation\n",
    "        if determinant == 0:\n",
    "            raise Exception (\"Determinent is equal to Zero. Inversion is not possible\")\n",
    "        \n",
    "        elif self.rows == 2 and self.cols == 2:\n",
    "            return [[self.matrix[1][1]/determinant, -1*self.matrix[0][1]/determinant],\n",
    "                    [-1*self.matrix[1][0]/determinant, self.matrix[0][0]/determinant]]\n",
    "        else:\n",
    "            raise Exception (\"Matrix must be 2x2\")\n",
    "    def cross_product(self, v2):\n",
    "        \"\"\" produce the cross product of self and 2nd vector (v2)\"\"\"\n",
    "        if self.cols == 3:\n",
    "            return [[self.matrix[0][1]*v2[0][2] - self.matrix[0][2]*v2[0][1],\n",
    "                     self.matrix[0][2]*v2[0][0] - self.matrix[0][0]*v2[0][2], \n",
    "                     self.matrix[0][0]*v2[0][1] - self.matrix[0][1]*v2[0][0]]]\n",
    "        else:\n",
    "            return \"Matrix must be 3 Dimensional Vector\"\n",
    "     \n",
    "    \n",
    "    "
   ]
  },
  {
   "cell_type": "code",
   "execution_count": 311,
   "metadata": {},
   "outputs": [
    {
     "data": {
      "text/plain": [
       "[[1, 2, 3, 4], [10, 20, 30, 40], [-1, 200, 300, -4], [20, 4, 3, 2]]"
      ]
     },
     "execution_count": 311,
     "metadata": {},
     "output_type": "execute_result"
    }
   ],
   "source": [
    "m1 = [[1,2,3,4],\n",
    "      [10,20,30,40],\n",
    "      [-1,200,300,-4],\n",
    "     [20, 4, 3, 2]]\n",
    "\n",
    "m1"
   ]
  },
  {
   "cell_type": "code",
   "execution_count": 312,
   "metadata": {},
   "outputs": [
    {
     "data": {
      "text/plain": [
       "[[10, 20, 30, 40], [20, 4, 3, 2], [-1, 200, 300, -4], [1, 2, 3, 4]]"
      ]
     },
     "execution_count": 312,
     "metadata": {},
     "output_type": "execute_result"
    }
   ],
   "source": [
    "m2 = [[10,20,30,40],\n",
    "      [20, 4, 3, 2],\n",
    "      [-1,200,300,-4],\n",
    "     [1,2,3,4]]\n",
    "\n",
    "m2 "
   ]
  },
  {
   "cell_type": "code",
   "execution_count": 313,
   "metadata": {},
   "outputs": [],
   "source": [
    "m1 = Matrix([[1,2,3,4],\n",
    "      [10,20,30,40],\n",
    "      [-1,200,300,-4],\n",
    "     [20, 4, 3, 2]])\n",
    "\n"
   ]
  },
  {
   "cell_type": "code",
   "execution_count": 314,
   "metadata": {},
   "outputs": [
    {
     "data": {
      "text/plain": [
       "((11, 22, 33, 44), (30, 24, 33, 42), (-2, 400, 600, -8), (21, 6, 6, 6))"
      ]
     },
     "execution_count": 314,
     "metadata": {},
     "output_type": "execute_result"
    }
   ],
   "source": [
    "m1.add(m2)"
   ]
  },
  {
   "cell_type": "code",
   "execution_count": 315,
   "metadata": {},
   "outputs": [
    {
     "data": {
      "text/plain": [
       "((51, 636, 948, 48),\n",
       " (510, 6360, 9480, 480),\n",
       " (3686, 60772, 90558, -856),\n",
       " (279, 1020, 1518, 804))"
      ]
     },
     "execution_count": 315,
     "metadata": {},
     "output_type": "execute_result"
    }
   ],
   "source": [
    "m1.mul(m2)"
   ]
  },
  {
   "cell_type": "code",
   "execution_count": 316,
   "metadata": {},
   "outputs": [],
   "source": [
    "m3 = [[1], [0], [2], [4]]\n"
   ]
  },
  {
   "cell_type": "code",
   "execution_count": 317,
   "metadata": {},
   "outputs": [
    {
     "data": {
      "text/plain": [
       "((23,), (230,), (583,), (34,))"
      ]
     },
     "execution_count": 317,
     "metadata": {},
     "output_type": "execute_result"
    }
   ],
   "source": [
    "m1.mul(m3)"
   ]
  },
  {
   "cell_type": "code",
   "execution_count": 318,
   "metadata": {},
   "outputs": [],
   "source": [
    "m4_2x2 = Matrix([[10, 20], [30, 40]])"
   ]
  },
  {
   "cell_type": "code",
   "execution_count": 319,
   "metadata": {},
   "outputs": [
    {
     "data": {
      "text/plain": [
       "-200"
      ]
     },
     "execution_count": 319,
     "metadata": {},
     "output_type": "execute_result"
    }
   ],
   "source": [
    "m4_2x2.determinant()"
   ]
  },
  {
   "cell_type": "code",
   "execution_count": 320,
   "metadata": {},
   "outputs": [
    {
     "data": {
      "text/plain": [
       "[[-0.2, 0.1], [0.15, -0.05]]"
      ]
     },
     "execution_count": 320,
     "metadata": {},
     "output_type": "execute_result"
    }
   ],
   "source": [
    "m4_2x2.inverse()"
   ]
  },
  {
   "cell_type": "code",
   "execution_count": null,
   "metadata": {},
   "outputs": [],
   "source": []
  },
  {
   "cell_type": "code",
   "execution_count": 321,
   "metadata": {},
   "outputs": [
    {
     "data": {
      "text/plain": [
       "[[-2, 4, -2]]"
      ]
     },
     "execution_count": 321,
     "metadata": {},
     "output_type": "execute_result"
    }
   ],
   "source": [
    "v1 = Matrix([[1, 2, 3]])\n",
    "\n",
    "v2 = [[3, 4, 5]]\n",
    "\n",
    "v1.cross_product(v2)"
   ]
  },
  {
   "cell_type": "code",
   "execution_count": null,
   "metadata": {},
   "outputs": [],
   "source": []
  }
 ],
 "metadata": {
  "kernelspec": {
   "display_name": "Python 3",
   "language": "python",
   "name": "python3"
  },
  "language_info": {
   "codemirror_mode": {
    "name": "ipython",
    "version": 3
   },
   "file_extension": ".py",
   "mimetype": "text/x-python",
   "name": "python",
   "nbconvert_exporter": "python",
   "pygments_lexer": "ipython3",
   "version": "3.6.5"
  }
 },
 "nbformat": 4,
 "nbformat_minor": 2
}
