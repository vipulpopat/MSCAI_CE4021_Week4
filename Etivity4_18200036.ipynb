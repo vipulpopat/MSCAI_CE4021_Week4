{
 "cells": [
  {
   "cell_type": "markdown",
   "metadata": {},
   "source": [
    "#Student Name: Brian Parle\n",
    "#Student ID: 18200036\n",
    "\n",
    "Starting point for Week 4 submission is: Code submission for week 3 from Abhijit Sinha"
   ]
  },
  {
   "cell_type": "code",
   "execution_count": 46,
   "metadata": {},
   "outputs": [],
   "source": [
    "def shape_matrix(matrix):\n",
    "    \"\"\"Function to find the size of matrix and will return the\n",
    "    number of rows and columns \"\"\"\n",
    "\n",
    "    num_rows = len(matrix)\n",
    "    num_columns = len(matrix[0])\n",
    "    return num_rows, num_columns\n",
    "\n",
    "\n",
    "def check_matrix_dimension(matrix_a, matrix_b, fn_op):\n",
    "    \"\"\" Function to check if the matrix is suitable for addition,\n",
    "    subtraction or multiplication \"\"\"\n",
    "    \"\"\"\n",
    "    1. To perform matrix addition and subtraction, two matrices must have the\n",
    "    same dimensions\n",
    "    2. For matrix multiplication first matrix must have the same number of\n",
    "    columns as the second matrix has rows\n",
    "    \"\"\"\n",
    "\n",
    "    if (fn_op == \"multiply\") and \\\n",
    "            shape_matrix(matrix_a)[1] == shape_matrix(matrix_b)[0]:\n",
    "        return True\n",
    "    elif (fn_op == \"add_sub\") and \\\n",
    "            shape_matrix(matrix_a) == shape_matrix(matrix_b):\n",
    "        return True\n",
    "    else:\n",
    "        raise ValueError(\"Matrix shape is not suitable for this operation\")\n",
    "\n",
    "\n",
    "def func_add(mat1, mat2):\n",
    "    \"\"\" Helper function to add matrix elements \"\"\"\n",
    "\n",
    "    return mat1 + mat2\n",
    "\n",
    "\n",
    "def func_subtract(mat1, mat2):\n",
    "    \"\"\" Helper function to subtract matrix elements \"\"\"\n",
    "\n",
    "    return mat1 - mat2\n",
    "\n",
    "\n",
    "def matrix_add_or_sub(matrix_1, matrix_2, func_operation):\n",
    "    \"\"\" Function to add or subtract two matrices \"\"\"\n",
    "    \n",
    "    \"\"\"\n",
    "    :param matrix_1:\n",
    "    :param matrix_2:\n",
    "    :param func_operation: can be \"add\" or \"subtract\"\n",
    "    :return:\n",
    "    \"\"\"\n",
    "\n",
    "    check_matrix_dimension(matrix_1, matrix_2, \"add_sub\")\n",
    "    row_num, col_num = shape_matrix(matrix_1)\n",
    "\n",
    "    matrix_add_subtract = []\n",
    "    # iterate through rows\n",
    "    for i in range(row_num):\n",
    "        new_column = []\n",
    "        # iterate through columns\n",
    "        for j in range(col_num):\n",
    "            # Perform addition or subtraction based on the function operation\n",
    "            temp_val = func_operation(matrix_1[i][j], matrix_2[i][j])\n",
    "            new_column.append(temp_val)\n",
    "        matrix_add_subtract.append(tuple(new_column))\n",
    "    return tuple(matrix_add_subtract)\n",
    "\n",
    "\n",
    "def matrix_multiplication(matrix_1, matrix_2):\n",
    "    \"\"\" Function to perform matrix multiplication \"\"\"\n",
    "\n",
    "    # Check if the matrix dimensions is suitable for multiplication\n",
    "    check_matrix_dimension(matrix_1, matrix_2, \"multiply\")\n",
    "\n",
    "    product = []\n",
    "    # i will run through each row of matrix_1\n",
    "    for i in range(len(matrix_1)):\n",
    "        matrix_i = []\n",
    "        # j will run through each column of matrix_2\n",
    "        for j in range(len(matrix_2[0])):\n",
    "            matrix_jk = 0\n",
    "            # k will run through each row of matrix_2\n",
    "            for k in range(len(matrix_2)):\n",
    "                matrix_jk += matrix_1[i][k] * matrix_2[k][j]\n",
    "            matrix_i.append(matrix_jk)\n",
    "        product.append(tuple(matrix_i))\n",
    "    return tuple(product)\n"
   ]
  },
  {
   "cell_type": "code",
   "execution_count": 47,
   "metadata": {
    "collapsed": true
   },
   "outputs": [],
   "source": [
    "# Test Matrix definition in tuples format\n",
    "\n",
    "# 2x2 matrices\n",
    "mat_a_2x2 = ((1, 4), (5, -2))\n",
    "mat_b_2x2 = ((-2, 6), (0, 3))\n",
    "\n",
    "# 4x4 matrices\n",
    "mat_a_4x4 = ((6, 3, -1, 2),\n",
    "             (7, 4, 0, 3),\n",
    "             (-2, 9, 0, 4),\n",
    "             (-5, 2, 7, 1))\n",
    "mat_b_4x4 = ((1, 2, 3, 8),\n",
    "             (1, 5, 9, -8),\n",
    "             (0, -6, 2, 8),\n",
    "             (0, -6, 1, -8))\n",
    "\n",
    "# 3x3 matrix\n",
    "mat_a_3x3 = ((6, 1, 8),\n",
    "             (3, 2, -4),\n",
    "             (9, -5, 7))\n",
    "\n",
    "# 3x1 column vector\n",
    "mat_b_3x1 = ((2,), (-2,), (4,))"
   ]
  },
  {
   "cell_type": "code",
   "execution_count": 48,
   "metadata": {},
   "outputs": [
    {
     "name": "stdout",
     "output_type": "stream",
     "text": [
      "The result of mat_a_2x2 + mat_b_2x2 = ((-1, 10), (5, 1))\n",
      "The result of mat_a_2x2 - mat_b_2x2 = ((3, -2), (5, -5))\n",
      "The result of mat_a_2x2 * mat_b_2x2 = ((-2, 18), (-10, 24))\n"
     ]
    }
   ],
   "source": [
    "# -------------------------------------\n",
    "#  Test cases for 2x2 matrix operations\n",
    "# -------------------------------------\n",
    "print(\"The result of mat_a_2x2 + mat_b_2x2 = {}\".format(\n",
    "    matrix_add_or_sub(mat_a_2x2, mat_b_2x2, func_add)))\n",
    "print(\"The result of mat_a_2x2 - mat_b_2x2 = {}\".format(\n",
    "    matrix_add_or_sub(mat_a_2x2, mat_b_2x2, func_subtract)))\n",
    "print(\"The result of mat_a_2x2 * mat_b_2x2 = {}\".format(\n",
    "    matrix_multiplication(mat_a_2x2, mat_b_2x2)))"
   ]
  },
  {
   "cell_type": "code",
   "execution_count": 49,
   "metadata": {},
   "outputs": [
    {
     "name": "stdout",
     "output_type": "stream",
     "text": [
      "The result of mat_a_4x4 + mat_b_4x4 = ((7, 5, 2, 10), (8, 9, 9, -5), (-2, 3, 2, 12), (-5, -4, 8, -7))\n",
      "The result of mat_a_4x4 - mat_b_4x4 = ((5, 1, -4, -6), (6, -1, -9, 11), (-2, 15, -2, -4), (-5, 8, 6, 9))\n",
      "The result of mat_a_4x4 * mat_b_4x4 = ((9, 21, 45, 0), (11, 16, 60, 0), (7, 17, 79, -120), (-3, -48, 18, -8))\n"
     ]
    }
   ],
   "source": [
    "# ------------------------------------\n",
    "# Test cases for 4x4 matrix operations\n",
    "# ------------------------------------\n",
    "print(\"The result of mat_a_4x4 + mat_b_4x4 = {}\".format(\n",
    "    matrix_add_or_sub(mat_a_4x4, mat_b_4x4, func_add)))\n",
    "print(\"The result of mat_a_4x4 - mat_b_4x4 = {}\".format(\n",
    "    matrix_add_or_sub(mat_a_4x4, mat_b_4x4, func_subtract)))\n",
    "print(\"The result of mat_a_4x4 * mat_b_4x4 = {}\".format(\n",
    "    matrix_multiplication(mat_a_4x4, mat_b_4x4)))"
   ]
  },
  {
   "cell_type": "code",
   "execution_count": 50,
   "metadata": {},
   "outputs": [
    {
     "name": "stdout",
     "output_type": "stream",
     "text": [
      "The result of mat_a_3x3 * mat_b_3x1 = ((42,), (-14,), (56,))\n"
     ]
    }
   ],
   "source": [
    "# --------------------------------------------------------\n",
    "# Matrix multiplication : 3x3 matrix and 3x1 column vector\n",
    "# --------------------------------------------------------\n",
    "print(\"The result of mat_a_3x3 * mat_b_3x1 = {}\".format(\n",
    "    matrix_multiplication(mat_a_3x3, mat_b_3x1)))"
   ]
  },
  {
   "cell_type": "code",
   "execution_count": null,
   "metadata": {
    "collapsed": true
   },
   "outputs": [],
   "source": []
  }
 ],
 "metadata": {
  "kernelspec": {
   "display_name": "Python 3",
   "language": "python",
   "name": "python3"
  },
  "language_info": {
   "codemirror_mode": {
    "name": "ipython",
    "version": 3
   },
   "file_extension": ".py",
   "mimetype": "text/x-python",
   "name": "python",
   "nbconvert_exporter": "python",
   "pygments_lexer": "ipython3",
   "version": "3.6.5"
  }
 },
 "nbformat": 4,
 "nbformat_minor": 1
}
