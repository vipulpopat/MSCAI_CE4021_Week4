{
 "cells": [
  {
   "cell_type": "markdown",
   "metadata": {},
   "source": [
    "# Student Name: Brian Parle\n",
    "# Student ID: 18200036\n",
    "\n",
    "**Starting point for Week 4 submission is: Code submission for week 3 from Abhijit Sinha**\n",
    "\n",
    "#### Purpose\n",
    "The purpose of this E-tivity is to help you become confident in calculating matrix determinants, inverse of a matrix and cross product of a vector with another vector, and in creating a Python class to represent this functionality in a reusable way. Note that the generic term for matrix and vector like structures is 'tensor'.\n",
    "\n",
    "#### Task (Complete by Saturday Week 4)\n",
    "With the final version of the code from the peer you selected in E-tivity 3 as a starting point, create a class that contains one tensor and provides the following methods:\n",
    "\n",
    "* Calculate the size of the tensor as a 2D tuple\n",
    "* Sum/subtract the tensor with another tensor of suitable size\n",
    "* Multiply the tensor with a tensor of suitable size\n",
    "* Calculate the determinant of the tensor, but only for tensors of size 2x2 (matrix)\n",
    "* Calculate the inverse of the tensor, but only for tensors of size 2x2\n",
    "* Calculate the cross product of the tensor with another tensor of suitable size\n",
    "\n",
    "N.B.: \n",
    "* Use the Jupyter Notebook provided in the repository for week 4.\n",
    "* Limit your code to use for tensors of rank 1 and 2 (vectors and matrices)\n",
    "* Write your code without the use of imported modules.\n",
    "* Provide suitable exception handling to prevent the above operations from being used on unsuitable tensors.\n",
    "* Test your code with one example for each of the following scenarios:\n",
    "*   sum of a 4x4 with a 4x4 matrix\n",
    "*   multiplication of a 4x4 with a 4x4 matrix\n",
    "*   multiplication of a 4x4 matrix with a suitable vector\n",
    "*   determinant of a 2x2 matrix\n",
    "*   inverse of a 2x2 matrix\n",
    "*   cross-product of 2 suitable tensors\n",
    "\n",
    "GIT commit your tested code and push to your remote branch. Submit a message to the E-tivity 4: Matrix Determinant, Inverse and Cross-product forum with a detailed description of how you have implemented the above described functionality and the name of your git branch. As part of your post, provide calculations for the determinant, inverse and cross product methods with the tensors you chose for your tests. You may add these calculations to your post using the formula editor or as a scan of handwritten notes. \n",
    "\n",
    "#### Respond (Complete by Wednesday Week 5)\n",
    "GIT pull the code from your peer who has created a class based on your functions made in E-tivity 3. Respond in the E-tivity 4: Matrix Determinant, Inverse and Cross-product forum with respectful and in-depth assessment of your peer’s implementation.\n",
    "\n",
    "#### Reflect (Complete by Saturday Week 5)\n",
    "Use the feedback provided to you, and any other insights you have gained since writing the original code to improve the code you wrote in this E-tivity. GIT push the result to your remote branch and submit to Sulis using the link in 'Uploads and Submissions' below."
   ]
  },
  {
   "cell_type": "code",
   "execution_count": 46,
   "metadata": {},
   "outputs": [],
   "source": [
    "def shape_matrix(matrix):\n",
    "    \"\"\"Function to find the size of matrix and will return the\n",
    "    number of rows and columns \"\"\"\n",
    "\n",
    "    num_rows = len(matrix)\n",
    "    num_columns = len(matrix[0])\n",
    "    return num_rows, num_columns\n",
    "\n",
    "\n",
    "def check_matrix_dimension(matrix_a, matrix_b, fn_op):\n",
    "    \"\"\" Function to check if the matrix is suitable for addition,\n",
    "    subtraction or multiplication \"\"\"\n",
    "    \"\"\"\n",
    "    1. To perform matrix addition and subtraction, two matrices must have the\n",
    "    same dimensions\n",
    "    2. For matrix multiplication first matrix must have the same number of\n",
    "    columns as the second matrix has rows\n",
    "    \"\"\"\n",
    "\n",
    "    if (fn_op == \"multiply\") and \\\n",
    "            shape_matrix(matrix_a)[1] == shape_matrix(matrix_b)[0]:\n",
    "        return True\n",
    "    elif (fn_op == \"add_sub\") and \\\n",
    "            shape_matrix(matrix_a) == shape_matrix(matrix_b):\n",
    "        return True\n",
    "    else:\n",
    "        raise ValueError(\"Matrix shape is not suitable for this operation\")\n",
    "\n",
    "\n",
    "def func_add(mat1, mat2):\n",
    "    \"\"\" Helper function to add matrix elements \"\"\"\n",
    "\n",
    "    return mat1 + mat2\n",
    "\n",
    "\n",
    "def func_subtract(mat1, mat2):\n",
    "    \"\"\" Helper function to subtract matrix elements \"\"\"\n",
    "\n",
    "    return mat1 - mat2\n",
    "\n",
    "\n",
    "def matrix_add_or_sub(matrix_1, matrix_2, func_operation):\n",
    "    \"\"\" Function to add or subtract two matrices \"\"\"\n",
    "    \n",
    "    \"\"\"\n",
    "    :param matrix_1:\n",
    "    :param matrix_2:\n",
    "    :param func_operation: can be \"add\" or \"subtract\"\n",
    "    :return:\n",
    "    \"\"\"\n",
    "\n",
    "    check_matrix_dimension(matrix_1, matrix_2, \"add_sub\")\n",
    "    row_num, col_num = shape_matrix(matrix_1)\n",
    "\n",
    "    matrix_add_subtract = []\n",
    "    # iterate through rows\n",
    "    for i in range(row_num):\n",
    "        new_column = []\n",
    "        # iterate through columns\n",
    "        for j in range(col_num):\n",
    "            # Perform addition or subtraction based on the function operation\n",
    "            temp_val = func_operation(matrix_1[i][j], matrix_2[i][j])\n",
    "            new_column.append(temp_val)\n",
    "        matrix_add_subtract.append(tuple(new_column))\n",
    "    return tuple(matrix_add_subtract)\n",
    "\n",
    "\n",
    "def matrix_multiplication(matrix_1, matrix_2):\n",
    "    \"\"\" Function to perform matrix multiplication \"\"\"\n",
    "\n",
    "    # Check if the matrix dimensions is suitable for multiplication\n",
    "    check_matrix_dimension(matrix_1, matrix_2, \"multiply\")\n",
    "\n",
    "    product = []\n",
    "    # i will run through each row of matrix_1\n",
    "    for i in range(len(matrix_1)):\n",
    "        matrix_i = []\n",
    "        # j will run through each column of matrix_2\n",
    "        for j in range(len(matrix_2[0])):\n",
    "            matrix_jk = 0\n",
    "            # k will run through each row of matrix_2\n",
    "            for k in range(len(matrix_2)):\n",
    "                matrix_jk += matrix_1[i][k] * matrix_2[k][j]\n",
    "            matrix_i.append(matrix_jk)\n",
    "        product.append(tuple(matrix_i))\n",
    "    return tuple(product)\n"
   ]
  },
  {
   "cell_type": "code",
   "execution_count": 47,
   "metadata": {
    "collapsed": true
   },
   "outputs": [],
   "source": [
    "# Test Matrix definition in tuples format\n",
    "\n",
    "# 2x2 matrices\n",
    "mat_a_2x2 = ((1, 4), (5, -2))\n",
    "mat_b_2x2 = ((-2, 6), (0, 3))\n",
    "\n",
    "# 4x4 matrices\n",
    "mat_a_4x4 = ((6, 3, -1, 2),\n",
    "             (7, 4, 0, 3),\n",
    "             (-2, 9, 0, 4),\n",
    "             (-5, 2, 7, 1))\n",
    "mat_b_4x4 = ((1, 2, 3, 8),\n",
    "             (1, 5, 9, -8),\n",
    "             (0, -6, 2, 8),\n",
    "             (0, -6, 1, -8))\n",
    "\n",
    "# 3x3 matrix\n",
    "mat_a_3x3 = ((6, 1, 8),\n",
    "             (3, 2, -4),\n",
    "             (9, -5, 7))\n",
    "\n",
    "# 3x1 column vector\n",
    "mat_b_3x1 = ((2,), (-2,), (4,))"
   ]
  },
  {
   "cell_type": "code",
   "execution_count": 48,
   "metadata": {},
   "outputs": [
    {
     "name": "stdout",
     "output_type": "stream",
     "text": [
      "The result of mat_a_2x2 + mat_b_2x2 = ((-1, 10), (5, 1))\n",
      "The result of mat_a_2x2 - mat_b_2x2 = ((3, -2), (5, -5))\n",
      "The result of mat_a_2x2 * mat_b_2x2 = ((-2, 18), (-10, 24))\n"
     ]
    }
   ],
   "source": [
    "# -------------------------------------\n",
    "#  Test cases for 2x2 matrix operations\n",
    "# -------------------------------------\n",
    "print(\"The result of mat_a_2x2 + mat_b_2x2 = {}\".format(\n",
    "    matrix_add_or_sub(mat_a_2x2, mat_b_2x2, func_add)))\n",
    "print(\"The result of mat_a_2x2 - mat_b_2x2 = {}\".format(\n",
    "    matrix_add_or_sub(mat_a_2x2, mat_b_2x2, func_subtract)))\n",
    "print(\"The result of mat_a_2x2 * mat_b_2x2 = {}\".format(\n",
    "    matrix_multiplication(mat_a_2x2, mat_b_2x2)))"
   ]
  },
  {
   "cell_type": "code",
   "execution_count": 49,
   "metadata": {},
   "outputs": [
    {
     "name": "stdout",
     "output_type": "stream",
     "text": [
      "The result of mat_a_4x4 + mat_b_4x4 = ((7, 5, 2, 10), (8, 9, 9, -5), (-2, 3, 2, 12), (-5, -4, 8, -7))\n",
      "The result of mat_a_4x4 - mat_b_4x4 = ((5, 1, -4, -6), (6, -1, -9, 11), (-2, 15, -2, -4), (-5, 8, 6, 9))\n",
      "The result of mat_a_4x4 * mat_b_4x4 = ((9, 21, 45, 0), (11, 16, 60, 0), (7, 17, 79, -120), (-3, -48, 18, -8))\n"
     ]
    }
   ],
   "source": [
    "# ------------------------------------\n",
    "# Test cases for 4x4 matrix operations\n",
    "# ------------------------------------\n",
    "print(\"The result of mat_a_4x4 + mat_b_4x4 = {}\".format(\n",
    "    matrix_add_or_sub(mat_a_4x4, mat_b_4x4, func_add)))\n",
    "print(\"The result of mat_a_4x4 - mat_b_4x4 = {}\".format(\n",
    "    matrix_add_or_sub(mat_a_4x4, mat_b_4x4, func_subtract)))\n",
    "print(\"The result of mat_a_4x4 * mat_b_4x4 = {}\".format(\n",
    "    matrix_multiplication(mat_a_4x4, mat_b_4x4)))"
   ]
  },
  {
   "cell_type": "code",
   "execution_count": 50,
   "metadata": {},
   "outputs": [
    {
     "name": "stdout",
     "output_type": "stream",
     "text": [
      "The result of mat_a_3x3 * mat_b_3x1 = ((42,), (-14,), (56,))\n"
     ]
    }
   ],
   "source": [
    "# --------------------------------------------------------\n",
    "# Matrix multiplication : 3x3 matrix and 3x1 column vector\n",
    "# --------------------------------------------------------\n",
    "print(\"The result of mat_a_3x3 * mat_b_3x1 = {}\".format(\n",
    "    matrix_multiplication(mat_a_3x3, mat_b_3x1)))"
   ]
  },
  {
   "cell_type": "code",
   "execution_count": null,
   "metadata": {
    "collapsed": true
   },
   "outputs": [],
   "source": []
  }
 ],
 "metadata": {
  "kernelspec": {
   "display_name": "Python 3",
   "language": "python",
   "name": "python3"
  },
  "language_info": {
   "codemirror_mode": {
    "name": "ipython",
    "version": 3
   },
   "file_extension": ".py",
   "mimetype": "text/x-python",
   "name": "python",
   "nbconvert_exporter": "python",
   "pygments_lexer": "ipython3",
   "version": "3.6.5"
  }
 },
 "nbformat": 4,
 "nbformat_minor": 1
}
