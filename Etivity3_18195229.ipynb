{
 "cells": [
  {
   "cell_type": "markdown",
   "metadata": {},
   "source": [
    "Student: Gerard Kerley\n",
    "ID: 18195229"
   ]
  },
  {
   "cell_type": "markdown",
   "metadata": {},
   "source": [
    "Description of problem:\n",
    "\n",
    "Providing the size of a matrix as a 2-dimensional tuple\n",
    "\n",
    "Summing and subtracting two matrices\n",
    "\n",
    "Multiplying two matrices or a vector and a matrix of suitable size"
   ]
  },
  {
   "cell_type": "code",
   "execution_count": 44,
   "metadata": {},
   "outputs": [],
   "source": [
    "result = create_empty_matrix(2, 2)\n",
    "\n",
    "def initialise_matrix(num_cols, num_rows):\n",
    "    \"\"\" Initialise an empty matrix.\n",
    "    \"\"\"\n",
    "    empty_matrix = [[0 for x in range(num_cols)] \n",
    "                    for y in range(num_rows)]\n",
    "    return empty_matrix\n",
    "\n",
    "def get_size(matrix):\n",
    "    \"\"\"Find the size of the given matrix\n",
    "    \"\"\"\n",
    "    cols = len(matrix[0])\n",
    "    rows = len(matrix)\n",
    "    return (rows, cols)\n",
    "    \n",
    "#rows, cols = get_size(m)\n",
    "\n",
    "# convert return matrix to tuples\n",
    "\n",
    "def add_or_subtract_matrices(matrix1, matrix2, operation):\n",
    "    \"\"\"Add or subtract matrices depending on value of operation parameter\n",
    "    \"\"\"\n",
    "    # check if matrices are the same shape\n",
    "    if get_size(matrix1) == get_size(matrix2):\n",
    "        for i in range(len(matrix1)):\n",
    "            for j in range(len(matrix1[0])):\n",
    "                if operation == 'add':\n",
    "                    result[i][j] =  matrix1[i][j] + matrix2[i][j]\n",
    "                elif operation == 'subtract':\n",
    "                    result[i][j] =  matrix1[i][j] - matrix2[i][j]\n",
    "    return result\n",
    "\n",
    "\n",
    "def multiply_matrices(matrix1, matrix2):\n",
    "    \"\"\"Multiply a matrix by a matrix or a vector\n",
    "    \"\"\"\n",
    "    # Check if row number of matrix 1 equals col number of matrix 2\n",
    "    if get_size(matrix1)[1] == get_size(matrix2)[0]:\n",
    "        product = []\n",
    "        for i in range(len(matrix1)):\n",
    "            i_matrix = []\n",
    "            for j in range(len(matrix2[0])):\n",
    "                jk_matrix = 0\n",
    "                for k in range(len(matrix2)):\n",
    "                    jk_matrix += matrix1[i][k] * matrix2[k][j]\n",
    "                i_matrix.append(jk_matrix)\n",
    "            product.append(tuple(i_matrix))\n",
    "        return tuple(product)\n"
   ]
  },
  {
   "cell_type": "code",
   "execution_count": 49,
   "metadata": {},
   "outputs": [
    {
     "name": "stdout",
     "output_type": "stream",
     "text": [
      "[[8, 10], [12, 14]]\n",
      "[[-4, -4], [-4, -4]]\n",
      "((36, 41), (64, 73))\n",
      "((32, 44, 31, 34), (53, 51, 56, 47), (40, 27, 39, 41), (25, 30, 33, 38))\n",
      "None\n"
     ]
    }
   ],
   "source": [
    "# TESTS\n",
    "m1 = [[2,3],\n",
    "      [4,5]]\n",
    "m2 = [[6,7],\n",
    "      [8,9]]\n",
    "m3 = [[1,5,2,3],\n",
    "      [3,2,6,5],\n",
    "      [6,1,4,1],\n",
    "      [4,3,1,2]]\n",
    "m4 = [[2,1,4,5],\n",
    "      [3,5,1,3],\n",
    "      [6,3,2,1],\n",
    "      [1,4,6,4]]\n",
    "\n",
    "print(add_or_subtract_matrices(m1, m2, 'add'))\n",
    "print(add_or_subtract_matrices(m1, m2, 'subtract'))\n",
    "print(multiply_matrices(m1, m2))\n",
    "print(multiply_matrices(m3, m4))"
   ]
  },
  {
   "cell_type": "code",
   "execution_count": null,
   "metadata": {},
   "outputs": [],
   "source": []
  }
 ],
 "metadata": {
  "kernelspec": {
   "display_name": "Python 3",
   "language": "python",
   "name": "python3"
  },
  "language_info": {
   "codemirror_mode": {
    "name": "ipython",
    "version": 3
   },
   "file_extension": ".py",
   "mimetype": "text/x-python",
   "name": "python",
   "nbconvert_exporter": "python",
   "pygments_lexer": "ipython3",
   "version": "3.6.5"
  }
 },
 "nbformat": 4,
 "nbformat_minor": 2
}
